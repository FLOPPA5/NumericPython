{
 "cells": [
  {
   "cell_type": "code",
   "execution_count": 164,
   "metadata": {
    "collapsed": true
   },
   "outputs": [
    {
     "name": "stdout",
     "output_type": "stream",
     "text": [
      "A=\n",
      "[[ 86   7   2   4   8  -3]\n",
      " [  5  -6  -2  -3  -3   2]\n",
      " [  2  -1  14  -1   2 -12]\n",
      " [ 12   5  -1 -10   2  -2]\n",
      " [ -2  -4   3   1   6  -2]\n",
      " [ -1 -42   8   2  -2   8]]\n"
     ]
    }
   ],
   "source": [
    "import numpy as np\n",
    "import sympy as sp\n",
    "from numpy import linalg as li\n",
    "np.set_printoptions(suppress=True)\n",
    "#n=86, m=8, l=6, k=14, i=10, j=6\n",
    "A = np.array([[86, 7, 2, 4, 8, -3],\n",
    "             [5, -6, -2, -3, -3, 2],\n",
    "             [2, -1, 14, -1, 2, -12],\n",
    "             [12, 5, -1, -10, 2, -2],\n",
    "             [-2, -4, 3, 1, 6, -2],\n",
    "             [-1, -42, 8, 2, -2, 8]])\n",
    "print('A=')\n",
    "print(A)"
   ]
  },
  {
   "cell_type": "code",
   "execution_count": 165,
   "outputs": [
    {
     "name": "stdout",
     "output_type": "stream",
     "text": [
      "b[5] = -98, \n",
      "K[5] = \n",
      "[[1. 0. 0. 0. 0. 0.]\n",
      " [0. 1. 0. 0. 0. 0.]\n",
      " [0. 0. 1. 0. 0. 0.]\n",
      " [0. 0. 0. 1. 0. 0.]\n",
      " [0. 0. 0. 0. 1. 0.]\n",
      " [0. 0. 0. 0. 0. 1.]]\n"
     ]
    }
   ],
   "source": [
    "#Метод Фадєєва-Лаверьє\n",
    "n = len(A)\n",
    "b = [0]*(n+2)\n",
    "K = [0]*(n+1)\n",
    "b[n] = -1*np.trace(A)\n",
    "b[n+1] = 1\n",
    "K[n] = np.identity(n)\n",
    "print(f'b[{n-1}] = {b[6]}, \\nK[{n-1}] = \\n{K[6]}')"
   ],
   "metadata": {
    "collapsed": false
   }
  },
  {
   "cell_type": "code",
   "execution_count": 166,
   "outputs": [
    {
     "data": {
      "text/plain": "[6215396.0, 119697.0, -253499.0, 1589.0, 986.0, -98, 1]"
     },
     "execution_count": 166,
     "metadata": {},
     "output_type": "execute_result"
    }
   ],
   "source": [
    "#Послідовно отримуємо значення коефіцієнтів\n",
    "n = len(A)\n",
    "for i in range(1, n):\n",
    "    K[n-i] = np.dot(A, K[n-i+1]) + b[n-i+1]*np.identity(n)\n",
    "    b[n-i] = (-1/(i+1))*np.trace(np.dot(A, K[n-i]))\n",
    "b = b[1:n+2]\n",
    "K = K[1:n+1]\n",
    "b"
   ],
   "metadata": {
    "collapsed": false
   }
  },
  {
   "cell_type": "code",
   "execution_count": 167,
   "outputs": [
    {
     "data": {
      "text/plain": "array([[0., 0., 0., 0., 0., 0.],\n       [0., 0., 0., 0., 0., 0.],\n       [0., 0., 0., 0., 0., 0.],\n       [0., 0., 0., 0., 0., 0.],\n       [0., 0., 0., 0., 0., 0.],\n       [0., 0., 0., 0., 0., 0.]])"
     },
     "execution_count": 167,
     "metadata": {},
     "output_type": "execute_result"
    }
   ],
   "source": [
    "#Правильність виконаних розрахунків перевіримо за допомогою наступного співвідношення: AK0 + b0E = 0.\n",
    "np.dot(A, K[0]) + b[0]*np.identity(n)"
   ],
   "metadata": {
    "collapsed": false
   }
  },
  {
   "cell_type": "code",
   "execution_count": 168,
   "outputs": [
    {
     "name": "stdout",
     "output_type": "stream",
     "text": [
      "6215396.0 + (119697.0)λ + (-253499.0)λ² + (1589.0)λ³ + (986.0)λ⁴ + (-98)λ⁵ + λ⁶\n"
     ]
    }
   ],
   "source": [
    "#Будуємо характеристичне рівняння\n",
    "indexes = {0: '\\u00B0', 1: '', 2: '\\u00B2', 3: '\\u00B3', 4: '\\u2074', 5: '\\u2075',\n",
    "           6: '\\u2076', 7: '\\u2077', 8: '\\u2078', 9: '\\u2079'}\n",
    "print(' + '.join([f'({str(b[i])})' + 'λ{}'.format(indexes[i]) if i != 0 else str(b[i]) for i in range(n)]) + ' + λ\\u2076')"
   ],
   "metadata": {
    "collapsed": false
   }
  },
  {
   "cell_type": "code",
   "execution_count": 171,
   "outputs": [
    {
     "data": {
      "text/plain": "<Figure size 640x480 with 1 Axes>",
      "image/png": "[encoded data removed]"
     },
     "metadata": {},
     "output_type": "display_data"
    }
   ],
   "source": [
    "l = sp.symbols('λ')\n",
    "eq = sp.Function('eq')(l)\n",
    "# eq = 4118185.0 - 23945.0*l - 190431.0*(l**2) + 347.0*(l**3) + 954.0*(l**4) - 88*(l**5) + l**6\n",
    "eq = 6215396 + (119697*l) -253499.0*l**2 + 1589.0*l**3 + (986.0*l**4) -98*(l**5) + l**6\n",
    "p = sp.plot(eq, (l, -14, 100), show=False, title='')\n",
    "p.show()"
   ],
   "metadata": {
    "collapsed": false
   }
  },
  {
   "cell_type": "code",
   "execution_count": 172,
   "outputs": [
    {
     "data": {
      "text/plain": "[(86.81585014001695+0j),\n (10.516914222778054+11.982657375933176j),\n (10.516914222778054-11.982657375933176j),\n (5.458949961965748+0j),\n (-10.298946744934758+0j),\n (-5.009681802604025+0j)]"
     },
     "execution_count": 172,
     "metadata": {},
     "output_type": "execute_result"
    }
   ],
   "source": [
    "list(np.roots(list(reversed(b))))"
   ],
   "metadata": {
    "collapsed": false
   }
  },
  {
   "cell_type": "code",
   "execution_count": null,
   "outputs": [],
   "source": [
    "A1 = -1*K[0]/b[0]\n",
    "A1"
   ],
   "metadata": {
    "collapsed": false
   }
  },
  {
   "cell_type": "code",
   "execution_count": null,
   "outputs": [],
   "source": [
    "g = abs(np.dot(A, A1))\n",
    "print(g)"
   ],
   "metadata": {
    "collapsed": false
   }
  },
  {
   "cell_type": "code",
   "execution_count": null,
   "outputs": [],
   "source": [
    "#Метод Крилова\n",
    "n = len(A)\n",
    "x = [0 for i in range(0, n + 1)]\n",
    "x[0] = np.linspace(0, 1, len(A)) #Розбиття відрізка (0, 1) на len(A) частин\n",
    "# x = [1, 0, 0, 0, 0, 0]\n",
    "for i in range(1, n+1):\n",
    "    x[i] = np.dot(A, x[i-1])"
   ],
   "metadata": {
    "collapsed": false
   }
  },
  {
   "cell_type": "code",
   "execution_count": null,
   "outputs": [],
   "source": [
    "#Знаходимо коефіцієнти\n",
    "K = np.array([x[i] for i in reversed(range(0, n))]).reshape(n, n)\n",
    "p = -x[n]\n",
    "b = list(np.linalg.solve(K.T, p))\n",
    "print(f'b= {b}')"
   ],
   "metadata": {
    "collapsed": false
   }
  },
  {
   "cell_type": "code",
   "execution_count": null,
   "outputs": [],
   "source": [
    "bb = list(b)[::-1]\n",
    "bb.append(1)\n",
    "bb = np.round(np.array(bb), 1)\n",
    "bb[::-1]"
   ],
   "metadata": {
    "collapsed": false
   }
  },
  {
   "cell_type": "code",
   "execution_count": null,
   "outputs": [],
   "source": [
    "#Будуємо характеристичний поліном\n",
    "indexes = {0: '\\u00B0', 1: '', 2: '\\u00B2', 3: '\\u00B3', 4: '\\u2074', 5: '\\u2075',\n",
    "           6: '\\u2076', 7: '\\u2077', 8: '\\u2078', 9: '\\u2079'}\n",
    "print(' + '.join([f'({str(bb[i])})' + 'λ{}'.format(indexes[i]) if i != 0 else str(bb[i]) for i in range(n)]) + ' + λ\\u2076')"
   ],
   "metadata": {
    "collapsed": false
   }
  },
  {
   "cell_type": "code",
   "execution_count": 173,
   "outputs": [
    {
     "data": {
      "text/plain": "(array([ 86.81585014 +0.j        ,  10.51691422+11.98265738j,\n         10.51691422-11.98265738j, -10.29894674 +0.j        ,\n         -5.0096818  +0.j        ,   5.45894996 +0.j        ]),\n array([[-0.98972899+0.j        , -0.01568378+0.01818007j,\n         -0.01568378-0.01818007j,  0.04359905+0.j        ,\n         -0.01840654+0.j        , -0.05283482+0.j        ],\n        [-0.0487159 +0.j        ,  0.01371313+0.09182403j,\n          0.01371313-0.09182403j, -0.36781592+0.j        ,\n          0.32932846+0.j        , -0.16772057+0.j        ],\n        [-0.02938796+0.j        , -0.20829491-0.62547691j,\n         -0.20829491+0.62547691j, -0.34974202+0.j        ,\n          0.49841481+0.j        , -0.63086979+0.j        ],\n        [-0.1250571 +0.j        ,  0.06743145+0.01193206j,\n          0.06743145-0.01193206j, -0.58027577+0.j        ,\n         -0.07736686+0.j        ,  0.07618388+0.j        ],\n        [ 0.02348017+0.j        , -0.14217833-0.12497044j,\n         -0.14217833+0.12497044j, -0.06253497+0.j        ,\n          0.13053264+0.j        ,  0.67144183+0.j        ],\n        [ 0.03176542+0.j        , -0.71810445+0.j        ,\n         -0.71810445-0.j        , -0.63234524+0.j        ,\n          0.7872498 +0.j        , -0.33829497+0.j        ]]))"
     },
     "execution_count": 173,
     "metadata": {},
     "output_type": "execute_result"
    }
   ],
   "source": [
    "#Знаходимо значення коренів\n",
    "li.eig(A)"
   ],
   "metadata": {
    "collapsed": false
   }
  },
  {
   "cell_type": "code",
   "execution_count": null,
   "outputs": [],
   "source": [
    "#QR\n",
    "n = 200\n",
    "A1 = np.zeros((n, 6, 6), dtype=np.float64)\n",
    "A1[0] = A\n",
    "res = 0\n",
    "Q = np.zeros((n, 6, 6), dtype=np.float64)\n",
    "R = np.zeros((n, 6, 6), dtype=np.float64)\n",
    "for i in range(1, n):\n",
    "    Q, R = li.qr(A1[i-1])\n",
    "    A1[i] = np.dot(R, np.transpose(Q))\n",
    "    flag = True\n",
    "    for j in range(4):\n",
    "        if A1[i][j+1][j] >= 0.01:\n",
    "            flag = False\n",
    "    # if flag:\n",
    "    res = i\n",
    "    print(A1[i], res)\n",
    "print(res)"
   ],
   "metadata": {
    "collapsed": false
   }
  },
  {
   "cell_type": "code",
   "execution_count": null,
   "outputs": [],
   "source": [
    "# def QR_eigvals(A, tol=1e-12, maxiter=1000):\n",
    "#     A_old = np.copy(A)\n",
    "#     A_new = np.copy(A)\n",
    "#     diff = np.inf\n",
    "#     i = 0\n",
    "#     while (diff > tol) and (i < maxiter):\n",
    "#         A_old[:, :] = A_new\n",
    "#         Q, R = li.qr(A_old)\n",
    "#\n",
    "#         A_new[:, :] = R @ Q\n",
    "#\n",
    "#         diff = np.abs(A_new - A_old).max()\n",
    "#         i += 1\n",
    "#         # print(f'i={i}, A1 = {A_new}')\n",
    "#     eigvals = np.diag(A_new)\n",
    "#\n",
    "#     return eigvals\n",
    "# print(sorted(QR_eigvals(A)))"
   ],
   "metadata": {
    "collapsed": false
   }
  },
  {
   "cell_type": "code",
   "execution_count": null,
   "outputs": [],
   "source": [
    "# A1 = A.copy()\n",
    "# q = [[]]*(n)\n",
    "# r = [[]]*(n)\n",
    "# for i in range(0, n**2 + 1):\n",
    "#     q[i], r[i] = li.qr(A1[i-1])\n",
    "# np.diag(A1).reshape(n, 1)"
   ],
   "metadata": {
    "collapsed": false
   }
  },
  {
   "cell_type": "code",
   "execution_count": null,
   "outputs": [],
   "source": [
    "# A1 = np.zeros((n, 6, 6))\n",
    "# A1[0] = A\n",
    "# # q, r = np.zeros((n, 6, 6))\n",
    "# for i in range(0, (n**2) + 1):\n",
    "#     q, r = li.qr(A1)\n",
    "#     A1 = r@(q)\n",
    "# print(A1)"
   ],
   "metadata": {
    "collapsed": false
   }
  }
 ],
 "metadata": {
  "kernelspec": {
   "display_name": "Python 3",
   "language": "python",
   "name": "python3"
  },
  "language_info": {
   "codemirror_mode": {
    "name": "ipython",
    "version": 2
   },
   "file_extension": ".py",
   "mimetype": "text/x-python",
   "name": "python",
   "nbconvert_exporter": "python",
   "pygments_lexer": "ipython2",
   "version": "2.7.6"
  }
 },
 "nbformat": 4,
 "nbformat_minor": 0
}
